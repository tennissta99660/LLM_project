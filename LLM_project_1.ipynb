{
  "cells": [
    {
      "cell_type": "markdown",
      "metadata": {
        "id": "view-in-github",
        "colab_type": "text"
      },
      "source": [
        "<a href=\"https://colab.research.google.com/github/tennissta99660/LLM_project/blob/main/LLM_project_1.ipynb\" target=\"_parent\"><img src=\"https://colab.research.google.com/assets/colab-badge.svg\" alt=\"Open In Colab\"/></a>"
      ]
    },
    {
      "cell_type": "markdown",
      "source": [
        "Project 1, ch1-5.\n",
        "This project involves training a small-scale GPT-style Transformer model (specifically, GPT_CONFIG_124M) using PyTorch. The goal is to teach the model to generate coherent text based on a starting prompt using a custom dataset."
      ],
      "metadata": {
        "id": "Gl_28sBJ-5SY"
      }
    },
    {
      "cell_type": "markdown",
      "source": [
        "github link:-"
      ],
      "metadata": {
        "id": "KoDyT5E3_JHG"
      }
    },
    {
      "cell_type": "code",
      "execution_count": 1,
      "metadata": {
        "colab": {
          "base_uri": "https://localhost:8080/"
        },
        "id": "4X8dTqKSTSAE",
        "outputId": "3a109f17-bd6c-4fa3-f7ae-3c4e28abc139"
      },
      "outputs": [
        {
          "output_type": "stream",
          "name": "stdout",
          "text": [
            "Collecting tiktoken\n",
            "  Downloading tiktoken-0.9.0-cp311-cp311-manylinux_2_17_x86_64.manylinux2014_x86_64.whl.metadata (6.7 kB)\n",
            "Requirement already satisfied: regex>=2022.1.18 in /usr/local/lib/python3.11/dist-packages (from tiktoken) (2024.11.6)\n",
            "Requirement already satisfied: requests>=2.26.0 in /usr/local/lib/python3.11/dist-packages (from tiktoken) (2.32.3)\n",
            "Requirement already satisfied: charset-normalizer<4,>=2 in /usr/local/lib/python3.11/dist-packages (from requests>=2.26.0->tiktoken) (3.4.1)\n",
            "Requirement already satisfied: idna<4,>=2.5 in /usr/local/lib/python3.11/dist-packages (from requests>=2.26.0->tiktoken) (3.10)\n",
            "Requirement already satisfied: urllib3<3,>=1.21.1 in /usr/local/lib/python3.11/dist-packages (from requests>=2.26.0->tiktoken) (2.3.0)\n",
            "Requirement already satisfied: certifi>=2017.4.17 in /usr/local/lib/python3.11/dist-packages (from requests>=2.26.0->tiktoken) (2025.1.31)\n",
            "Downloading tiktoken-0.9.0-cp311-cp311-manylinux_2_17_x86_64.manylinux2014_x86_64.whl (1.2 MB)\n",
            "\u001b[2K   \u001b[90m━━━━━━━━━━━━━━━━━━━━━━━━━━━━━━━━━━━━━━━━\u001b[0m \u001b[32m1.2/1.2 MB\u001b[0m \u001b[31m18.6 MB/s\u001b[0m eta \u001b[36m0:00:00\u001b[0m\n",
            "\u001b[?25hInstalling collected packages: tiktoken\n",
            "Successfully installed tiktoken-0.9.0\n"
          ]
        }
      ],
      "source": [
        "!pip install tiktoken"
      ]
    },
    {
      "cell_type": "code",
      "execution_count": 2,
      "metadata": {
        "colab": {
          "base_uri": "https://localhost:8080/"
        },
        "id": "N9hFoPVFqnNj",
        "outputId": "747404a9-defe-4604-9989-4d0cfb83084e"
      },
      "outputs": [
        {
          "output_type": "stream",
          "name": "stdout",
          "text": [
            "torch version: 2.5.1+cu124\n",
            "tiktoken version: 0.9.0\n"
          ]
        }
      ],
      "source": [
        "import os\n",
        "from importlib.metadata import version\n",
        "import torch\n",
        "import torch.nn as nn\n",
        "print(\"torch version:\", version(\"torch\"))\n",
        "import tiktoken\n",
        "print(\"tiktoken version:\", version(\"tiktoken\"))"
      ]
    },
    {
      "cell_type": "code",
      "execution_count": 3,
      "metadata": {
        "id": "jmabrOIY1FRE"
      },
      "outputs": [],
      "source": [
        "\n",
        "GPT_CONFIG_124M = {\n",
        "    \"vocab_size\": 50257,\n",
        "\n",
        "    \"context_length\": 1024,\n",
        "\n",
        "    \"emb_dim\": 768,\n",
        "\n",
        "    \"n_heads\": 12,\n",
        "\n",
        "    \"n_layers\": 12,\n",
        "\n",
        "    \"drop_rate\": 0.1,\n",
        "\n",
        "    \"qkv_bias\": False\n",
        "}"
      ]
    },
    {
      "cell_type": "code",
      "execution_count": 4,
      "metadata": {
        "id": "a0gDWLDUd_xx"
      },
      "outputs": [],
      "source": [
        "import urllib.request\n",
        "\n",
        "file_path_1 = \"text_data_1.txt\"\n",
        "url = \"https://www.gutenberg.org/cache/epub/1342/pg1342.txt\"\n",
        "\n",
        "if not os.path.exists(file_path_1):\n",
        "    with urllib.request.urlopen(url) as response:\n",
        "        text_data_1 = response.read().decode('utf-8')\n",
        "    with open(file_path_1, \"w\", encoding=\"utf-8\") as file:\n",
        "        file.write(text_data_1)\n",
        "else:\n",
        "    with open(file_path_1, \"r\", encoding=\"utf-8\") as file:\n",
        "        text_data_1 = file.read()\n"
      ]
    },
    {
      "cell_type": "code",
      "execution_count": 5,
      "metadata": {
        "id": "rGWHEQMVeDFd"
      },
      "outputs": [],
      "source": [
        "file_path_2 = \"text_data_2.txt\"\n",
        "url = \"https://www.gutenberg.org/cache/epub/1400/pg1400.txt\"\n",
        "\n",
        "if not os.path.exists(file_path_2):\n",
        "    with urllib.request.urlopen(url) as response:\n",
        "        text_data_2 = response.read().decode('utf-8')\n",
        "    with open(file_path_2, \"w\", encoding=\"utf-8\") as file:\n",
        "        file.write(text_data_2)\n",
        "else:\n",
        "    with open(file_path_2, \"r\", encoding=\"utf-8\") as file:\n",
        "        text_data_2 = file.read()"
      ]
    },
    {
      "cell_type": "code",
      "execution_count": 6,
      "metadata": {
        "id": "zFWcFLbVeF6f"
      },
      "outputs": [],
      "source": [
        "dataset = text_data_1 + text_data_2\n",
        "assert(len(dataset) == len(text_data_1) + len(text_data_2))"
      ]
    },
    {
      "cell_type": "code",
      "execution_count": 7,
      "metadata": {
        "id": "aostcDq5ecxw"
      },
      "outputs": [],
      "source": [
        "with open(\"final_dataset.txt\", \"w\", encoding = \"utf-8\") as file_1:\n",
        "    file_1.write(dataset)"
      ]
    },
    {
      "cell_type": "code",
      "execution_count": 8,
      "metadata": {
        "id": "HUh3logseIYS"
      },
      "outputs": [],
      "source": [
        "with open(\"final_dataset.txt\", \"r\", encoding = \"utf-8\") as raw_text:\n",
        "  raw_text = raw_text.read()"
      ]
    },
    {
      "cell_type": "code",
      "execution_count": 9,
      "metadata": {
        "colab": {
          "base_uri": "https://localhost:8080/"
        },
        "id": "n6fXx4_URyQl",
        "outputId": "102b5e95-be3e-4964-b452-aef3f7efc668"
      },
      "outputs": [
        {
          "output_type": "stream",
          "name": "stdout",
          "text": [
            "torch version: 2.5.1+cu124\n",
            "tiktoken version: 0.9.0\n"
          ]
        }
      ],
      "source": [
        "from importlib.metadata import version\n",
        "import tiktoken\n",
        "tokenizer = tiktoken.get_encoding(\"gpt2\")\n",
        "\n",
        "print(\"torch version:\", version(\"torch\"))\n",
        "print(\"tiktoken version:\", version(\"tiktoken\"))"
      ]
    },
    {
      "cell_type": "code",
      "execution_count": 10,
      "metadata": {
        "colab": {
          "base_uri": "https://localhost:8080/"
        },
        "id": "-ylT2F2S0qr1",
        "outputId": "2ef89ca4-eb44-47c8-d8e3-f966f3e423d5"
      },
      "outputs": [
        {
          "output_type": "stream",
          "name": "stdout",
          "text": [
            "Characters: 1762018\n",
            "Tokens: 480074\n"
          ]
        }
      ],
      "source": [
        "total_characters = len(raw_text)\n",
        "total_tokens = len(tokenizer.encode(raw_text))\n",
        "print(\"Characters:\", total_characters)\n",
        "print(\"Tokens:\", total_tokens)"
      ]
    },
    {
      "cell_type": "code",
      "execution_count": 11,
      "metadata": {
        "id": "j402mkJg05D3"
      },
      "outputs": [],
      "source": [
        "train_ratio = 0.90\n",
        "split_idx = int(train_ratio * len(raw_text))\n",
        "train_data = raw_text[:split_idx]\n",
        "val_data = raw_text[split_idx:]"
      ]
    },
    {
      "cell_type": "code",
      "execution_count": 12,
      "metadata": {
        "id": "RZULpPOg0Vw4"
      },
      "outputs": [],
      "source": [
        "class LayerNorm(nn.Module):\n",
        "    def __init__(self, emb_dim):\n",
        "        super().__init__()\n",
        "        self.eps = 1e-5\n",
        "        self.scale = nn.Parameter(torch.ones(emb_dim))\n",
        "        self.shift = nn.Parameter(torch.zeros(emb_dim))\n",
        "\n",
        "    def forward(self, x):\n",
        "        mean = x.mean(dim=-1, keepdim=True)\n",
        "        var = x.var(dim=-1, keepdim=True, unbiased=False)\n",
        "        norm_x = (x - mean) / torch.sqrt(var + self.eps)\n",
        "        return self.scale * norm_x + self.shift"
      ]
    },
    {
      "cell_type": "code",
      "execution_count": 13,
      "metadata": {
        "id": "_FuSyqtuaqlo"
      },
      "outputs": [],
      "source": [
        "class GELU(nn.Module):\n",
        "    def __init__(self):\n",
        "        super().__init__()\n",
        "\n",
        "    def forward(self, x):\n",
        "        return 0.5 * x * (1 + torch.tanh(\n",
        "            torch.sqrt(torch.tensor(2.0 / torch.pi)) *\n",
        "            (x + 0.044715 * torch.pow(x, 3))\n",
        "        ))"
      ]
    },
    {
      "cell_type": "code",
      "execution_count": 14,
      "metadata": {
        "id": "fEFgnP1Ja0ZF"
      },
      "outputs": [],
      "source": [
        "class FeedForward(nn.Module):\n",
        "    def __init__(self, cfg):\n",
        "        super().__init__()\n",
        "        self.layers = nn.Sequential(\n",
        "            nn.Linear(cfg[\"emb_dim\"], 4 * cfg[\"emb_dim\"]),\n",
        "            GELU(),\n",
        "            nn.Linear(4 * cfg[\"emb_dim\"], cfg[\"emb_dim\"]),\n",
        "        )\n",
        "\n",
        "    def forward(self, x):\n",
        "        return self.layers(x)"
      ]
    },
    {
      "cell_type": "code",
      "execution_count": 15,
      "metadata": {
        "id": "S3zJ7c3RpPMj"
      },
      "outputs": [],
      "source": [
        "class MultiHeadAttention(nn.Module):\n",
        "    def __init__(self, d_in, d_out, context_length, dropout, num_heads, qkv_bias=False):\n",
        "        super().__init__()\n",
        "        assert(d_out % num_heads == 0)\n",
        "        self.d_out = d_out\n",
        "        self.num_heads = num_heads\n",
        "\n",
        "        self.head_dim = d_out // num_heads\n",
        "\n",
        "        self.W_query = nn.Linear(d_in, d_out, bias=qkv_bias)\n",
        "        self.W_key = nn.Linear(d_in, d_out, bias=qkv_bias)\n",
        "        self.W_value = nn.Linear(d_in, d_out, bias=qkv_bias)\n",
        "        self.out_proj = nn.Linear(d_out, d_out)\n",
        "        self.dropout = nn.Dropout(dropout)\n",
        "        self.register_buffer('mask', torch.triu(torch.ones(context_length, context_length), diagonal=1))\n",
        "\n",
        "    def forward(self, x):\n",
        "        b, num_tokens, d_in = x.shape\n",
        "\n",
        "        keys = self.W_key(x)\n",
        "        queries = self.W_query(x)\n",
        "        values = self.W_value(x)\n",
        "\n",
        "        keys = keys.view(b, num_tokens, self.num_heads, self.head_dim)\n",
        "        values = values.view(b, num_tokens, self.num_heads, self.head_dim)\n",
        "        queries = queries.view(b, num_tokens, self.num_heads, self.head_dim)\n",
        "\n",
        "        keys = keys.transpose(1, 2)\n",
        "        queries = queries.transpose(1, 2)\n",
        "        values = values.transpose(1, 2)\n",
        "\n",
        "        attn_scores = queries @ keys.transpose(2, 3)\n",
        "\n",
        "        mask_bool = self.mask.bool()[:num_tokens, :num_tokens]\n",
        "\n",
        "        attn_scores.masked_fill_(mask_bool, -torch.inf)\n",
        "\n",
        "        attn_weights = torch.softmax(attn_scores / keys.shape[-1]**0.5, dim=-1)\n",
        "        attn_weights = self.dropout(attn_weights)\n",
        "\n",
        "        context_vec = (attn_weights @ values).transpose(1, 2)\n",
        "\n",
        "        context_vec = context_vec.contiguous().view(\n",
        "            b, num_tokens, self.d_out\n",
        "        )\n",
        "        context_vec = self.out_proj(context_vec)\n",
        "\n",
        "        return context_vec"
      ]
    },
    {
      "cell_type": "code",
      "execution_count": 16,
      "metadata": {
        "id": "Ao7jCC0na2jx"
      },
      "outputs": [],
      "source": [
        "class TransformerBlock(nn.Module):\n",
        "    def __init__(self, cfg):\n",
        "        super().__init__()\n",
        "        self.att = MultiHeadAttention(\n",
        "            d_in=cfg[\"emb_dim\"],\n",
        "            d_out=cfg[\"emb_dim\"],\n",
        "            context_length=cfg[\"context_length\"],\n",
        "            num_heads=cfg[\"n_heads\"],\n",
        "            dropout=cfg[\"drop_rate\"],\n",
        "            qkv_bias=cfg[\"qkv_bias\"])\n",
        "        self.ff = FeedForward(cfg)\n",
        "        self.norm1 = LayerNorm(cfg[\"emb_dim\"])\n",
        "        self.norm2 = LayerNorm(cfg[\"emb_dim\"])\n",
        "        self.drop_resid = nn.Dropout(cfg[\"drop_rate\"])\n",
        "\n",
        "    def forward(self, x):\n",
        "        shortcut = x\n",
        "        x = self.norm1(x)\n",
        "        x = self.att(x)\n",
        "        x = self.drop_resid(x)\n",
        "        x = x + shortcut\n",
        "\n",
        "        shortcut = x\n",
        "        x = self.norm2(x)\n",
        "        x = self.ff(x)\n",
        "        x = self.drop_resid(x)\n",
        "        x = x + shortcut\n",
        "\n",
        "        return x"
      ]
    },
    {
      "cell_type": "code",
      "execution_count": 17,
      "metadata": {
        "id": "0cm_IxITa7HK"
      },
      "outputs": [],
      "source": [
        "class GPTModel(nn.Module):\n",
        "    def __init__(self, cfg):\n",
        "        super().__init__()\n",
        "        self.tok_emb = nn.Embedding(cfg[\"vocab_size\"], cfg[\"emb_dim\"])\n",
        "        self.pos_emb = nn.Embedding(cfg[\"context_length\"], cfg[\"emb_dim\"])\n",
        "        self.drop_emb = nn.Dropout(cfg[\"drop_rate\"])\n",
        "\n",
        "        self.trf_blocks = nn.Sequential(\n",
        "            *[TransformerBlock(cfg) for _ in range(cfg[\"n_layers\"])])\n",
        "\n",
        "        self.final_norm = LayerNorm(cfg[\"emb_dim\"])\n",
        "        self.out_head = nn.Linear(cfg[\"emb_dim\"], cfg[\"vocab_size\"], bias=False)\n",
        "\n",
        "    def forward(self, in_idx):\n",
        "        batch_size, seq_len = in_idx.shape\n",
        "        tok_embeds = self.tok_emb(in_idx)\n",
        "        pos_embeds = self.pos_emb(torch.arange(seq_len, device=in_idx.device))\n",
        "        x = tok_embeds + pos_embeds\n",
        "        x = self.drop_emb(x)\n",
        "        x = self.trf_blocks(x)\n",
        "        x = self.final_norm(x)\n",
        "        logits = self.out_head(x)\n",
        "        return logits"
      ]
    },
    {
      "cell_type": "code",
      "execution_count": 18,
      "metadata": {
        "id": "5unycCBca-qK"
      },
      "outputs": [],
      "source": [
        "def generate_text(model, idx, max_new_tokens, context_size, device):\n",
        "    idx = idx.to(device)\n",
        "    for _ in range(max_new_tokens):\n",
        "\n",
        "        idx_cond = idx[:, -context_size:]\n",
        "\n",
        "        with torch.no_grad():\n",
        "            logits = model(idx_cond)\n",
        "\n",
        "        logits = logits[:, -1, :]\n",
        "\n",
        "        idx_next = torch.argmax(logits, dim=-1, keepdim=True)\n",
        "\n",
        "        idx = torch.cat((idx, idx_next), dim=1)\n",
        "\n",
        "    return idx"
      ]
    },
    {
      "cell_type": "code",
      "execution_count": 19,
      "metadata": {
        "id": "NRhpimkbbIgc"
      },
      "outputs": [],
      "source": [
        "def text_to_token_ids(text, tokenizer):\n",
        "\n",
        "    encoded = tokenizer.encode(text, allowed_special = {'<|endoftext|>'})\n",
        "\n",
        "    encoded_tensor = torch.tensor(encoded).unsqueeze(0)\n",
        "\n",
        "    return encoded_tensor\n",
        "\n",
        "def token_ids_to_text(token_ids, tokenizer):\n",
        "\n",
        "    flat = token_ids.squeeze(0)\n",
        "\n",
        "    return tokenizer.decode(flat.tolist())\n"
      ]
    },
    {
      "cell_type": "code",
      "execution_count": 20,
      "metadata": {
        "id": "Y0ZmPGeIO_Qb"
      },
      "outputs": [],
      "source": [
        "from torch.utils.data import Dataset, DataLoader\n",
        "class GPTDatasetV1(Dataset):\n",
        "\n",
        "     def __init__(self, txt, tokenizer, max_length, stride):\n",
        "\n",
        "         self.input_ids = []\n",
        "         self.target_ids = []\n",
        "\n",
        "         token_ids = tokenizer.encode(txt, allowed_special = {\"<|endoftext|>\"})\n",
        "         assert len(token_ids) > max_length, \"Number of tokenized inputs must at least be equal to max_length+1\"\n",
        "\n",
        "         for i in range(0, len(token_ids) - max_length, stride):\n",
        "\n",
        "             input_chunk = token_ids[i:i + max_length]\n",
        "\n",
        "             target_chunk = token_ids[i + 1: i + max_length + 1]\n",
        "\n",
        "             self.input_ids.append(torch.tensor(input_chunk))\n",
        "             self.target_ids.append(torch.tensor(target_chunk))\n",
        "\n",
        "     def __len__(self):\n",
        "         return len(self.input_ids)\n",
        "\n",
        "     def __getitem__(self, idx):\n",
        "         return self.input_ids[idx], self.target_ids[idx]"
      ]
    },
    {
      "cell_type": "code",
      "execution_count": 21,
      "metadata": {
        "id": "SNviWcohlmEC"
      },
      "outputs": [],
      "source": [
        "def create_dataloader_v1(txt, batch_size=4, max_length=256,\n",
        "                         stride=128, shuffle=True, drop_last=True,\n",
        "                         num_workers=0):\n",
        "\n",
        "    tokenizer = tiktoken.get_encoding(\"gpt2\")\n",
        "\n",
        "    dataset = GPTDatasetV1(txt, tokenizer, max_length, stride)\n",
        "\n",
        "    dataloader = DataLoader(\n",
        "        dataset,\n",
        "        batch_size=batch_size,\n",
        "        shuffle=shuffle,\n",
        "        drop_last=drop_last,\n",
        "        num_workers=num_workers\n",
        " )\n",
        "\n",
        "    return dataloader"
      ]
    },
    {
      "cell_type": "code",
      "execution_count": 22,
      "metadata": {
        "id": "r9SLRGYXq2VF"
      },
      "outputs": [],
      "source": [
        "train_loader = create_dataloader_v1(\n",
        "     train_data,\n",
        "     batch_size=2,\n",
        "     max_length=GPT_CONFIG_124M[\"context_length\"],\n",
        "     stride=GPT_CONFIG_124M[\"context_length\"],\n",
        "     drop_last=True,\n",
        "     shuffle=True,\n",
        "     num_workers=0\n",
        ")\n",
        "\n",
        "\n",
        "val_loader = create_dataloader_v1(\n",
        "     val_data,\n",
        "     batch_size=2,\n",
        "     max_length=GPT_CONFIG_124M[\"context_length\"],\n",
        "     stride=GPT_CONFIG_124M[\"context_length\"],\n",
        "     drop_last=False,\n",
        "     shuffle=False,\n",
        "     num_workers=0\n",
        ")"
      ]
    },
    {
      "cell_type": "code",
      "execution_count": 23,
      "metadata": {
        "id": "N6nkpVu5G_kn"
      },
      "outputs": [],
      "source": [
        "def calc_loss_batch(input_batch, target_batch, model, device):\n",
        "     input_batch, target_batch = input_batch.to(device), target_batch.to(device)\n",
        "     logits = model(input_batch)\n",
        "     loss = torch.nn.functional.cross_entropy(\n",
        "         logits.flatten(0, 1), target_batch.flatten()\n",
        "     )\n",
        "     return loss"
      ]
    },
    {
      "cell_type": "code",
      "execution_count": 24,
      "metadata": {
        "id": "Sfj02mpgGvsm"
      },
      "outputs": [],
      "source": [
        "def calc_loss_loader(data_loader, model, device, num_batches=None):\n",
        "     total_loss = 0\n",
        "     if len(data_loader) == 0:\n",
        "         return float(\"nan\")\n",
        "     elif num_batches is None:\n",
        "         num_batches = len(data_loader)\n",
        "     else:\n",
        "         num_batches = min(num_batches, len(data_loader))\n",
        "     for i, (input_batch, target_batch) in enumerate(data_loader):\n",
        "         if i < num_batches:\n",
        "             loss = calc_loss_batch(\n",
        "                 input_batch, target_batch, model, device\n",
        "             )\n",
        "             total_loss += loss.item()\n",
        "         else:\n",
        "             break\n",
        "     return total_loss / num_batches"
      ]
    },
    {
      "cell_type": "code",
      "execution_count": 25,
      "metadata": {
        "colab": {
          "base_uri": "https://localhost:8080/"
        },
        "id": "fvhHy4YpIF2A",
        "outputId": "cb6579b8-a6d2-4b99-f40e-50cd5fbe993e"
      },
      "outputs": [
        {
          "output_type": "stream",
          "name": "stdout",
          "text": [
            "Training loss: 11.021080225989932\n",
            "Validation loss: 11.02421350064485\n"
          ]
        }
      ],
      "source": [
        "model = GPTModel(GPT_CONFIG_124M)\n",
        "device = torch.device(\"cuda\" if torch.cuda.is_available() else \"cpu\")\n",
        "model.to(device)\n",
        "with torch.no_grad():\n",
        "    train_loss = calc_loss_loader(train_loader, model, device)\n",
        "    val_loss = calc_loss_loader(val_loader, model, device)\n",
        "print(\"Training loss:\", train_loss)\n",
        "print(\"Validation loss:\", val_loss)"
      ]
    },
    {
      "cell_type": "code",
      "execution_count": 26,
      "metadata": {
        "id": "hRfhP3HHCubB"
      },
      "outputs": [],
      "source": [
        "def train_model_simple(model, train_loader, val_loader, optimizer, device, num_epochs,\n",
        "                       eval_freq, eval_iter, start_context, tokenizer):\n",
        "    train_losses, val_losses, track_tokens_seen = [], [], []\n",
        "    tokens_seen, global_step = 0, -1\n",
        "\n",
        "    for epoch in range(num_epochs):\n",
        "        model.train()\n",
        "\n",
        "        for input_batch, target_batch in train_loader:\n",
        "            optimizer.zero_grad()\n",
        "            loss = calc_loss_batch(input_batch, target_batch, model, device)\n",
        "            loss.backward()\n",
        "            optimizer.step()\n",
        "            tokens_seen += input_batch.numel()\n",
        "            global_step += 1\n",
        "\n",
        "            if global_step % eval_freq == 0:\n",
        "                train_loss, val_loss = evaluate_model(\n",
        "                    model, train_loader, val_loader, device, eval_iter)\n",
        "                train_losses.append(train_loss)\n",
        "                val_losses.append(val_loss)\n",
        "                track_tokens_seen.append(tokens_seen)\n",
        "                print(f\"Ep {epoch+1} (Step {global_step:06d}): \"\n",
        "                      f\"Train loss {train_loss:.3f}, Val loss {val_loss:.3f}\")\n",
        "\n",
        "        generate_and_print_sample(\n",
        "            model, tokenizer, device, start_context\n",
        "        )\n",
        "\n",
        "    return train_losses, val_losses, track_tokens_seen\n",
        "\n",
        "\n",
        "def evaluate_model(model, train_loader, val_loader, device, eval_iter):\n",
        "    model.eval()\n",
        "    with torch.no_grad():\n",
        "        train_loss = calc_loss_loader(train_loader, model, device, num_batches=eval_iter)\n",
        "        val_loss = calc_loss_loader(val_loader, model, device, num_batches=eval_iter)\n",
        "    model.train()\n",
        "    return train_loss, val_loss\n",
        "\n",
        "\n",
        "def generate_and_print_sample(model, tokenizer, device, start_context):\n",
        "    model.eval()\n",
        "    context_size = model.pos_emb.weight.shape[0]\n",
        "    encoded = text_to_token_ids(start_context, tokenizer).to(device)\n",
        "    with torch.no_grad():\n",
        "        token_ids = generate_text(\n",
        "            model=model, idx=encoded,\n",
        "            max_new_tokens=50, context_size=context_size, device=device\n",
        "        )\n",
        "    decoded_text = token_ids_to_text(token_ids, tokenizer)\n",
        "    print(decoded_text.replace(\"\\n\", \" \"))\n",
        "    model.train()"
      ]
    },
    {
      "cell_type": "code",
      "execution_count": 27,
      "metadata": {
        "colab": {
          "base_uri": "https://localhost:8080/"
        },
        "id": "EPtOo7XeQtgb",
        "outputId": "a4d167af-5762-425c-fd41-48077148d9eb"
      },
      "outputs": [
        {
          "output_type": "stream",
          "name": "stdout",
          "text": [
            "Ep 1 (Step 000000): Train loss 10.621, Val loss 10.627\n",
            "Ep 1 (Step 000010): Train loss 9.201, Val loss 9.059\n",
            "Ep 1 (Step 000020): Train loss 8.412, Val loss 8.477\n",
            "Ep 1 (Step 000030): Train loss 8.076, Val loss 7.994\n",
            "Ep 1 (Step 000040): Train loss 7.665, Val loss 7.544\n",
            "Ep 1 (Step 000050): Train loss 7.315, Val loss 7.156\n",
            "Ep 1 (Step 000060): Train loss 6.812, Val loss 6.844\n",
            "Ep 1 (Step 000070): Train loss 6.667, Val loss 6.615\n",
            "Ep 1 (Step 000080): Train loss 6.209, Val loss 6.427\n",
            "Ep 1 (Step 000090): Train loss 6.531, Val loss 6.288\n",
            "Ep 1 (Step 000100): Train loss 6.097, Val loss 6.175\n",
            "Ep 1 (Step 000110): Train loss 6.169, Val loss 6.101\n",
            "Ep 1 (Step 000120): Train loss 6.130, Val loss 6.037\n",
            "Ep 1 (Step 000130): Train loss 5.931, Val loss 5.987\n",
            "Ep 1 (Step 000140): Train loss 5.929, Val loss 5.938\n",
            "Ep 1 (Step 000150): Train loss 5.908, Val loss 5.890\n",
            "Ep 1 (Step 000160): Train loss 5.880, Val loss 5.854\n",
            "Ep 1 (Step 000170): Train loss 5.848, Val loss 5.827\n",
            "Ep 1 (Step 000180): Train loss 5.968, Val loss 5.790\n",
            "Ep 1 (Step 000190): Train loss 5.187, Val loss 5.758\n",
            "Ep 1 (Step 000200): Train loss 5.090, Val loss 5.731\n",
            "Every effort moves you, and    ” “I” ” ” ” ” ” ” ” “” ” “I” \n",
            "Ep 2 (Step 000210): Train loss 5.887, Val loss 5.715\n",
            "Ep 2 (Step 000220): Train loss 5.737, Val loss 5.685\n",
            "Ep 2 (Step 000230): Train loss 5.708, Val loss 5.649\n",
            "Ep 2 (Step 000240): Train loss 5.626, Val loss 5.633\n",
            "Ep 2 (Step 000250): Train loss 5.746, Val loss 5.603\n",
            "Ep 2 (Step 000260): Train loss 5.680, Val loss 5.570\n",
            "Ep 2 (Step 000270): Train loss 5.792, Val loss 5.567\n",
            "Ep 2 (Step 000280): Train loss 5.433, Val loss 5.544\n",
            "Ep 2 (Step 000290): Train loss 5.129, Val loss 5.515\n",
            "Ep 2 (Step 000300): Train loss 5.390, Val loss 5.488\n",
            "Ep 2 (Step 000310): Train loss 4.973, Val loss 5.471\n",
            "Ep 2 (Step 000320): Train loss 5.400, Val loss 5.448\n",
            "Ep 2 (Step 000330): Train loss 5.283, Val loss 5.440\n",
            "Ep 2 (Step 000340): Train loss 5.101, Val loss 5.419\n",
            "Ep 2 (Step 000350): Train loss 5.429, Val loss 5.399\n",
            "Ep 2 (Step 000360): Train loss 5.381, Val loss 5.381\n",
            "Ep 2 (Step 000370): Train loss 4.845, Val loss 5.369\n",
            "Ep 2 (Step 000380): Train loss 5.570, Val loss 5.344\n",
            "Ep 2 (Step 000390): Train loss 5.151, Val loss 5.335\n",
            "Ep 2 (Step 000400): Train loss 5.434, Val loss 5.325\n",
            "Ep 2 (Step 000410): Train loss 5.311, Val loss 5.303\n",
            "Every effort moves you the ” said I was not to be a ” ” ” said I was a ” said I ” ” “I have been,” said I had been \n",
            "Ep 3 (Step 000420): Train loss 4.596, Val loss 5.274\n",
            "Ep 3 (Step 000430): Train loss 5.193, Val loss 5.275\n",
            "Ep 3 (Step 000440): Train loss 5.279, Val loss 5.265\n",
            "Ep 3 (Step 000450): Train loss 5.057, Val loss 5.252\n",
            "Ep 3 (Step 000460): Train loss 5.237, Val loss 5.242\n",
            "Ep 3 (Step 000470): Train loss 5.340, Val loss 5.236\n",
            "Ep 3 (Step 000480): Train loss 4.725, Val loss 5.245\n",
            "Ep 3 (Step 000490): Train loss 5.274, Val loss 5.216\n",
            "Ep 3 (Step 000500): Train loss 5.142, Val loss 5.198\n",
            "Ep 3 (Step 000510): Train loss 5.159, Val loss 5.211\n",
            "Ep 3 (Step 000520): Train loss 5.178, Val loss 5.184\n",
            "Ep 3 (Step 000530): Train loss 4.528, Val loss 5.182\n",
            "Ep 3 (Step 000540): Train loss 5.056, Val loss 5.166\n",
            "Ep 3 (Step 000550): Train loss 5.109, Val loss 5.162\n",
            "Ep 3 (Step 000560): Train loss 4.814, Val loss 5.169\n",
            "Ep 3 (Step 000570): Train loss 4.710, Val loss 5.150\n",
            "Ep 3 (Step 000580): Train loss 5.231, Val loss 5.143\n",
            "Ep 3 (Step 000590): Train loss 5.010, Val loss 5.141\n",
            "Ep 3 (Step 000600): Train loss 5.035, Val loss 5.134\n",
            "Ep 3 (Step 000610): Train loss 5.012, Val loss 5.133\n",
            "Ep 3 (Step 000620): Train loss 4.860, Val loss 5.127\n",
            "Every effort moves you “I am not be “I am sure,“I am not be “I am sure,“I am not be ” “I have been a “I am you,\n",
            "Ep 4 (Step 000630): Train loss 4.378, Val loss 5.122\n",
            "Ep 4 (Step 000640): Train loss 5.088, Val loss 5.112\n",
            "Ep 4 (Step 000650): Train loss 5.034, Val loss 5.128\n",
            "Ep 4 (Step 000660): Train loss 4.840, Val loss 5.096\n",
            "Ep 4 (Step 000670): Train loss 4.932, Val loss 5.102\n",
            "Ep 4 (Step 000680): Train loss 4.935, Val loss 5.090\n",
            "Ep 4 (Step 000690): Train loss 4.989, Val loss 5.073\n",
            "Ep 4 (Step 000700): Train loss 4.857, Val loss 5.087\n",
            "Ep 4 (Step 000710): Train loss 4.959, Val loss 5.071\n",
            "Ep 4 (Step 000720): Train loss 4.927, Val loss 5.059\n",
            "Ep 4 (Step 000730): Train loss 4.935, Val loss 5.069\n",
            "Ep 4 (Step 000740): Train loss 4.679, Val loss 5.058\n",
            "Ep 4 (Step 000750): Train loss 4.859, Val loss 5.050\n",
            "Ep 4 (Step 000760): Train loss 5.101, Val loss 5.042\n",
            "Ep 4 (Step 000770): Train loss 4.817, Val loss 5.046\n",
            "Ep 4 (Step 000780): Train loss 4.890, Val loss 5.048\n",
            "Ep 4 (Step 000790): Train loss 4.581, Val loss 5.032\n",
            "Ep 4 (Step 000800): Train loss 4.964, Val loss 5.038\n",
            "Ep 4 (Step 000810): Train loss 4.816, Val loss 5.026\n",
            "Ep 4 (Step 000820): Train loss 4.711, Val loss 5.030\n",
            "Ep 4 (Step 000830): Train loss 4.764, Val loss 5.014\n",
            "Every effort moves you, and and I am sure, and I had been a “I am sure,” ” said I have been a ” “I am not be,” “I am sure,\n",
            "Ep 5 (Step 000840): Train loss 4.927, Val loss 5.019\n",
            "Ep 5 (Step 000850): Train loss 4.806, Val loss 5.011\n",
            "Ep 5 (Step 000860): Train loss 4.689, Val loss 5.008\n",
            "Ep 5 (Step 000870): Train loss 4.640, Val loss 5.010\n",
            "Ep 5 (Step 000880): Train loss 4.686, Val loss 5.014\n",
            "Ep 5 (Step 000890): Train loss 4.805, Val loss 4.998\n",
            "Ep 5 (Step 000900): Train loss 4.609, Val loss 5.007\n",
            "Ep 5 (Step 000910): Train loss 4.838, Val loss 5.006\n",
            "Ep 5 (Step 000920): Train loss 4.788, Val loss 5.010\n",
            "Ep 5 (Step 000930): Train loss 4.551, Val loss 4.991\n",
            "Ep 5 (Step 000940): Train loss 4.664, Val loss 4.997\n",
            "Ep 5 (Step 000950): Train loss 4.711, Val loss 5.001\n",
            "Ep 5 (Step 000960): Train loss 4.766, Val loss 4.987\n",
            "Ep 5 (Step 000970): Train loss 4.771, Val loss 4.977\n",
            "Ep 5 (Step 000980): Train loss 3.969, Val loss 4.969\n",
            "Ep 5 (Step 000990): Train loss 4.709, Val loss 4.976\n",
            "Ep 5 (Step 001000): Train loss 4.609, Val loss 4.977\n",
            "Ep 5 (Step 001010): Train loss 4.697, Val loss 4.954\n",
            "Ep 5 (Step 001020): Train loss 4.773, Val loss 4.957\n",
            "Ep 5 (Step 001030): Train loss 4.377, Val loss 4.956\n",
            "Ep 5 (Step 001040): Train loss 4.517, Val loss 4.948\n",
            "Every effort moves you. “I am not be “I have been.” “I am not to be “I am not be.“I have been  “I am not to be.“\n"
          ]
        }
      ],
      "source": [
        "model = GPTModel(GPT_CONFIG_124M)\n",
        "model.to(device)\n",
        "optimizer = torch.optim.AdamW(\n",
        "    model.parameters(),\n",
        "    lr=0.00005, weight_decay=0.02\n",
        ")\n",
        "num_epochs = 5\n",
        "\n",
        "train_losses, val_losses, tokens_seen = train_model_simple(\n",
        "    model, train_loader, val_loader, optimizer, device,\n",
        "    num_epochs=num_epochs, eval_freq=10, eval_iter=5,\n",
        "    start_context=\"Every effort moves you\", tokenizer=tokenizer\n",
        ")"
      ]
    },
    {
      "cell_type": "code",
      "execution_count": 28,
      "metadata": {
        "colab": {
          "base_uri": "https://localhost:8080/",
          "height": 307
        },
        "id": "ru5U0PaybKOf",
        "outputId": "be0c722b-4f5f-4e85-a1e4-79a1737450be"
      },
      "outputs": [
        {
          "output_type": "display_data",
          "data": {
            "text/plain": [
              "<Figure size 500x300 with 2 Axes>"
            ],
            "image/png": "[encoded data removed]"
          },
          "metadata": {}
        }
      ],
      "source": [
        "import matplotlib.pyplot as plt\n",
        "from matplotlib.ticker import MaxNLocator\n",
        "import torch\n",
        "\n",
        "def plot_losses(epochs_seen, tokens_seen, train_losses, val_losses):\n",
        "    fig, ax1 = plt.subplots(figsize=(5, 3))\n",
        "    ax1.plot(epochs_seen, train_losses, label=\"Training loss\")\n",
        "    ax1.plot(epochs_seen, val_losses, linestyle=\"-.\", label=\"Validation loss\")\n",
        "\n",
        "    ax1.set_xlabel(\"Epochs\")\n",
        "    ax1.set_ylabel(\"Loss\")\n",
        "    ax1.legend(loc=\"upper right\")\n",
        "    ax1.xaxis.set_major_locator(MaxNLocator(integer=True))\n",
        "\n",
        "    ax2 = ax1.twiny()\n",
        "    ax2.plot(tokens_seen, train_losses, alpha=0)\n",
        "    ax2.set_xlabel(\"Tokens seen\")\n",
        "\n",
        "    fig.tight_layout()\n",
        "    plt.show()\n",
        "\n",
        "\n",
        "epochs_tensor = torch.linspace(0, num_epochs, len(train_losses))\n",
        "plot_losses(epochs_tensor, tokens_seen, train_losses, val_losses)"
      ]
    },
    {
      "cell_type": "code",
      "execution_count": 29,
      "metadata": {
        "id": "MpbAVLhlQLA5"
      },
      "outputs": [],
      "source": [
        "def user_input(context):\n",
        "  generate_and_print_sample(model, tokenizer, device, context)"
      ]
    },
    {
      "cell_type": "code",
      "execution_count": 30,
      "metadata": {
        "colab": {
          "base_uri": "https://localhost:8080/"
        },
        "id": "KfMkgLV2E6WQ",
        "outputId": "638c6596-7294-4d6e-95df-1d5b92effe3b"
      },
      "outputs": [
        {
          "output_type": "stream",
          "name": "stdout",
          "text": [
            "please enter starting context: I am a student\n",
            "I am a student. “I am not.” “I“I” ” “I“I“I“I“I”  “I am “I\n"
          ]
        }
      ],
      "source": [
        "context = input(\"please enter starting context: \")\n",
        "user_input(context)"
      ]
    },
    {
      "cell_type": "code",
      "execution_count": 31,
      "metadata": {
        "id": "LbsrUSI0E9RO"
      },
      "outputs": [],
      "source": [
        "torch.save(model.state_dict(), \"model.pth\")"
      ]
    },
    {
      "cell_type": "code",
      "execution_count": 32,
      "metadata": {
        "id": "fzGyKRRFFEcJ"
      },
      "outputs": [],
      "source": [
        "model = GPTModel(GPT_CONFIG_124M)\n",
        "device = torch.device(\"cuda\" if torch.cuda.is_available() else \"cpu\")\n",
        "model.load_state_dict(torch.load(\"model.pth\", map_location=device, weights_only=True))\n",
        "model.eval();"
      ]
    },
    {
      "cell_type": "code",
      "execution_count": 33,
      "metadata": {
        "id": "2hOjj3-vFHXk"
      },
      "outputs": [],
      "source": [
        "torch.save({\n",
        "    \"model_state_dict\": model.state_dict(),\n",
        "    \"optimizer_state_dict\": optimizer.state_dict(),\n",
        "    },\n",
        "    \"model_and_optimizer.pth\"\n",
        ")"
      ]
    },
    {
      "cell_type": "code",
      "execution_count": 34,
      "metadata": {
        "id": "Fej1UpMOFJqy"
      },
      "outputs": [],
      "source": [
        "checkpoint = torch.load(\"model_and_optimizer.pth\", weights_only=True)\n",
        "\n",
        "model = GPTModel(GPT_CONFIG_124M)\n",
        "model.load_state_dict(checkpoint[\"model_state_dict\"])\n",
        "\n",
        "optimizer = torch.optim.AdamW(model.parameters(), lr=0.0005, weight_decay=0.1)\n",
        "optimizer.load_state_dict(checkpoint[\"optimizer_state_dict\"])\n",
        "model.train();"
      ]
    },
    {
      "cell_type": "code",
      "execution_count": 34,
      "metadata": {
        "id": "XU1c-XTZFY3W"
      },
      "outputs": [],
      "source": []
    }
  ],
  "metadata": {
    "accelerator": "GPU",
    "colab": {
      "gpuType": "T4",
      "provenance": [],
      "include_colab_link": true
    },
    "kernelspec": {
      "display_name": "Python 3",
      "name": "python3"
    },
    "language_info": {
      "name": "python"
    }
  },
  "nbformat": 4,
  "nbformat_minor": 0
}